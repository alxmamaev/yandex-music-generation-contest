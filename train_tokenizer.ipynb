{
 "cells": [
  {
   "cell_type": "code",
   "execution_count": 7,
   "metadata": {},
   "outputs": [],
   "source": [
    "from data_utils import read_abc\n",
    "from glob import glob\n",
    "from tqdm import tqdm"
   ]
  },
  {
   "cell_type": "code",
   "execution_count": 8,
   "metadata": {},
   "outputs": [],
   "source": [
    "train_files = glob(\"trainset/abc/*.abc\")"
   ]
  },
  {
   "cell_type": "code",
   "execution_count": 9,
   "metadata": {},
   "outputs": [
    {
     "name": "stderr",
     "output_type": "stream",
     "text": [
      "100%|██████████| 182000/182000 [01:16<00:00, 2379.31it/s]\n"
     ]
    }
   ],
   "source": [
    "with open(\"train_corpus.txt\", \"w\") as f:\n",
    "    for file in tqdm(train_files):\n",
    "        text = read_abc(file)\n",
    "        f.write(text + \"\\n\")"
   ]
  },
  {
   "cell_type": "code",
   "execution_count": 11,
   "metadata": {},
   "outputs": [
    {
     "name": "stdout",
     "output_type": "stream",
     "text": [
      "Training parameters\n",
      "  input: train_corpus.txt\n",
      "  model: abc.yttm\n",
      "  vocab_size: 25000\n",
      "  n_threads: 8\n",
      "  character_coverage: 1\n",
      "  pad: 0\n",
      "  unk: 1\n",
      "  bos: 2\n",
      "  eos: 3\n",
      "\n",
      "reading file...\n",
      "learning bpe...\n",
      "number of unique characters in the training data: 55\n",
      "number of deleted characters: 0\n",
      "number of unique characters left: 55\n",
      "id: 1000=193+297              freq: 73017       subword: C,/2C,,/2]=C,/2+C,,/2]\n",
      "id: 2000=96+8                 freq: 27720       subword: A,,-=A,,+-\n",
      "id: 3000=139+1447             freq: 16162       subword: E,/2C,/2A,,/2]=E,/2+C,/2A,,/2]\n",
      "id: 4000=116+85               freq: 10737       subword: ▁[^D,=▁[^+D,\n",
      "id: 5000=83+247               freq: 7989        subword: ▁x/2A,,/2=▁x/2+A,,/2\n",
      "id: 6000=131+73               freq: 6253        subword: -B,G,=-B,+G,\n",
      "id: 7000=370+3455             freq: 5100        subword: 2^G,,2]=2^+G,,2]\n",
      "id: 8000=1611+258             freq: 4266        subword: ▁[E/2=C/2A,/2]=▁[E/2=+C/2A,/2]\n",
      "id: 9000=429+92               freq: 3649        subword: ▁B,,x/2=▁B,,+x/2\n",
      "id: 10000=97+877              freq: 3167        subword: A,/2E,/2C,/2]=A,/2+E,/2C,/2]\n",
      "id: 11000=138+313             freq: 2785        subword: ▁[D/2B,/2-G,/2-=▁[D/2+B,/2-G,/2-\n",
      "id: 12000=2936+619            freq: 2480        subword: ▁[B,/2G,/2E,/2B,,/2E,,/2]=▁[B,/2G,/2E,/2+B,,/2E,,/2]\n",
      "id: 13000=970+11              freq: 2216        subword: ▁[=cG=▁[=c+G\n",
      "id: 14000=2004+577            freq: 2015        subword: ▁[CG,-C,]=▁[CG,+-C,]\n",
      "id: 15000=341+687             freq: 1834        subword: B,G,D,G,,]=B,G,+D,G,,]\n",
      "id: 16000=274+3354            freq: 1684        subword: ▁[B,/2-G,/2-E,/2-E,,/2-]=▁[B,/2-+G,/2-E,/2-E,,/2-]\n",
      "id: 17000=174+864             freq: 1561        subword: ▁[B,2-F,2-]=▁[B,+2-F,2-]\n",
      "id: 18000=112+1864            freq: 1445        subword: ▁[F/2A,/2F,/2-]=▁[F/2+A,/2F,/2-]\n",
      "id: 19000=575+975             freq: 1346        subword: ▁[G/2-D/2-=C/2-=▁[G/2-D/2-+=C/2-\n",
      "id: 20000=284+661             freq: 1263        subword: ▁[E,-B,,]=▁[E,+-B,,]\n",
      "id: 21000=157+916             freq: 1185        subword: ▁[F/2-D/2B,/2G,/2]=▁[F/2-+D/2B,/2G,/2]\n",
      "id: 22000=2741+244            freq: 1114        subword: ▁[F4-C4-]=▁[F4-C+4-]\n",
      "id: 23000=138+1032            freq: 1051        subword: ▁[D/2_G,/2]=▁[D/2+_G,/2]\n",
      "id: 24000=142+2209            freq: 996         subword: ▁[C-C,-C,,-]=▁[C+-C,-C,,-]\n",
      "model saved to: abc.yttm\n"
     ]
    }
   ],
   "source": [
    "!yttm bpe --data train_corpus.txt --model abc.yttm --vocab_size 25000"
   ]
  },
  {
   "cell_type": "code",
   "execution_count": 12,
   "metadata": {},
   "outputs": [],
   "source": [
    "import youtokentome as yttm"
   ]
  },
  {
   "cell_type": "code",
   "execution_count": 13,
   "metadata": {},
   "outputs": [],
   "source": [
    "tokenizer = yttm.BPE(\"abc.yttm\")"
   ]
  },
  {
   "cell_type": "code",
   "execution_count": 15,
   "metadata": {},
   "outputs": [
    {
     "data": {
      "text/plain": [
       "25000"
      ]
     },
     "execution_count": 15,
     "metadata": {},
     "output_type": "execute_result"
    }
   ],
   "source": [
    "tokenizer.vocab_size()"
   ]
  },
  {
   "cell_type": "code",
   "execution_count": null,
   "metadata": {},
   "outputs": [],
   "source": []
  }
 ],
 "metadata": {
  "kernelspec": {
   "display_name": "Python 3",
   "language": "python",
   "name": "python3"
  },
  "language_info": {
   "codemirror_mode": {
    "name": "ipython",
    "version": 3
   },
   "file_extension": ".py",
   "mimetype": "text/x-python",
   "name": "python",
   "nbconvert_exporter": "python",
   "pygments_lexer": "ipython3",
   "version": "3.8.5"
  }
 },
 "nbformat": 4,
 "nbformat_minor": 4
}
